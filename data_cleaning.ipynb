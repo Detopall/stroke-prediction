{
 "cells": [
  {
   "attachments": {},
   "cell_type": "markdown",
   "metadata": {},
   "source": [
    "# Data Cleaning"
   ]
  },
  {
   "attachments": {},
   "cell_type": "markdown",
   "metadata": {},
   "source": [
    "This [Kaggle data](https://www.kaggle.com/datasets/fedesoriano/stroke-prediction-dataset) contains data about patients that have had a stroke. This needs some cleanup for our model. In this section we will perform data cleaning techniques that are required for the best possible model. "
   ]
  },
  {
   "cell_type": "code",
   "execution_count": null,
   "metadata": {},
   "outputs": [],
   "source": [
    "# import dependencies\n",
    "\n",
    "%matplotlib inline\n",
    "import numpy as np\n",
    "import pandas as pd\n",
    "import matplotlib as mpl\n",
    "import matplotlib.pyplot as plt\n",
    "import seaborn as sns\n",
    "plt.style.use('seaborn-darkgrid')"
   ]
  },
  {
   "cell_type": "code",
   "execution_count": null,
   "metadata": {},
   "outputs": [],
   "source": [
    "df = pd.read_csv(\"data/stroke-data-raw\")"
   ]
  },
  {
   "cell_type": "code",
   "execution_count": null,
   "metadata": {},
   "outputs": [],
   "source": [
    "df.head()"
   ]
  },
  {
   "attachments": {},
   "cell_type": "markdown",
   "metadata": {},
   "source": [
    "We can first of all see a lot of things that we would want to modify, drop, fill in ...\n",
    "\n",
    "To Drop:\n",
    "- id => gives no extra information about the patient that can be used for the model. This can also not be used, because this is essentially random.\n",
    "\n",
    "To One-Hot-Encode:\n",
    "We need to one-hot-encode some features, because no model can understand text. These features will be split according to their value and given a \"1\" if applicable and \"0\" if not.\n",
    "\n",
    "- gender\n",
    "- work_type\n",
    "- Residence_type\n",
    "- smoking_status\n",
    "\n",
    "To Modify slightly:\n",
    "\n",
    "Binary features such as \"hypertension\" are given \"1\" or \"0\" if applicable or not. But feature \"ever_married\" has \"Yes\" and \"No\". This needs to change to \"1\" and \"0\". Model can't understand \"Yes\" or \"No\"."
   ]
  }
 ],
 "metadata": {
  "kernelspec": {
   "display_name": "stroke-prediction-N-eXagyj",
   "language": "python",
   "name": "python3"
  },
  "language_info": {
   "name": "python",
   "version": "3.11.1"
  },
  "orig_nbformat": 4
 },
 "nbformat": 4,
 "nbformat_minor": 2
}
